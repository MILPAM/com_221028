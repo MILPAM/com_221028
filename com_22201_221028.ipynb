{
  "nbformat": 4,
  "nbformat_minor": 0,
  "metadata": {
    "colab": {
      "provenance": [],
      "collapsed_sections": [],
      "authorship_tag": "ABX9TyO64y9nyDia5k19ka89p7+L",
      "include_colab_link": true
    },
    "kernelspec": {
      "name": "python3",
      "display_name": "Python 3"
    },
    "language_info": {
      "name": "python"
    }
  },
  "cells": [
    {
      "cell_type": "markdown",
      "metadata": {
        "id": "view-in-github",
        "colab_type": "text"
      },
      "source": [
        "<a href=\"https://colab.research.google.com/github/MILPAM/com_221028/blob/main/com_22201_221028.ipynb\" target=\"_parent\"><img src=\"https://colab.research.google.com/assets/colab-badge.svg\" alt=\"Open In Colab\"/></a>"
      ]
    },
    {
      "cell_type": "markdown",
      "source": [
        "문제를 엽니다."
      ],
      "metadata": {
        "id": "DYLwwPjJ94bp"
      }
    },
    {
      "cell_type": "code",
      "source": [
        "110total = 0\n",
        "counter = 1\n",
        "while counter <= 10:\n",
        "  grade = int(input(\"점수를 입력하시오.:\"))\n",
        "  total = grade + total\n",
        "  counter = counter + 1\n",
        "average = total / 10\n",
        "print(average)  \n"
      ],
      "metadata": {
        "colab": {
          "base_uri": "https://localhost:8080/",
          "height": 136
        },
        "id": "eYoT-_Cj9-QX",
        "outputId": "646a15b0-6892-47dc-9e97-8e8d67f06276"
      },
      "execution_count": 20,
      "outputs": [
        {
          "output_type": "error",
          "ename": "SyntaxError",
          "evalue": "ignored",
          "traceback": [
            "\u001b[0;36m  File \u001b[0;32m\"<ipython-input-20-ec7668594704>\"\u001b[0;36m, line \u001b[0;32m1\u001b[0m\n\u001b[0;31m    110total = 0\u001b[0m\n\u001b[0m           ^\u001b[0m\n\u001b[0;31mSyntaxError\u001b[0m\u001b[0;31m:\u001b[0m invalid syntax\n"
          ]
        }
      ]
    },
    {
      "cell_type": "code",
      "execution_count": 7,
      "metadata": {
        "colab": {
          "base_uri": "https://localhost:8080/"
        },
        "id": "Zi0AG4sd9ydE",
        "outputId": "6c66a5c0-5d72-4b85-8e53-4b00719b4659"
      },
      "outputs": [
        {
          "output_type": "stream",
          "name": "stdout",
          "text": [
            "12\n"
          ]
        }
      ],
      "source": [
        "x = 10\n",
        "y = 2\n",
        "result = x + y\n",
        "print(result)"
      ]
    },
    {
      "cell_type": "code",
      "source": [
        "print(\"Hello World! 안녕 파이썬!\"):"
      ],
      "metadata": {
        "colab": {
          "base_uri": "https://localhost:8080/",
          "height": 136
        },
        "id": "EGE6jPkQFGwU",
        "outputId": "c03c3f04-676d-49e1-ccfe-3e9a4c9fa214"
      },
      "execution_count": 11,
      "outputs": [
        {
          "output_type": "error",
          "ename": "SyntaxError",
          "evalue": "ignored",
          "traceback": [
            "\u001b[0;36m  File \u001b[0;32m\"<ipython-input-11-551a7e33603b>\"\u001b[0;36m, line \u001b[0;32m1\u001b[0m\n\u001b[0;31m    print(\"Hello World! 안녕 파이썬!\"):\u001b[0m\n\u001b[0m                                  ^\u001b[0m\n\u001b[0;31mSyntaxError\u001b[0m\u001b[0;31m:\u001b[0m invalid syntax\n"
          ]
        }
      ]
    },
    {
      "cell_type": "code",
      "source": [
        "print(4+3)"
      ],
      "metadata": {
        "colab": {
          "base_uri": "https://localhost:8080/"
        },
        "id": "V1GRZ0haGIx6",
        "outputId": "96ea6557-f3a7-47f0-ee21-c637b0d06889"
      },
      "execution_count": 13,
      "outputs": [
        {
          "output_type": "stream",
          "name": "stdout",
          "text": [
            "7\n"
          ]
        }
      ]
    },
    {
      "cell_type": "code",
      "source": [
        "print(\"#\" * 10)\n",
        "print(\"# 안녕하세요? #\")\n",
        "print(\"#\" * 10)"
      ],
      "metadata": {
        "colab": {
          "base_uri": "https://localhost:8080/"
        },
        "id": "kXLuCjbeHTTj",
        "outputId": "82f6924a-c7fd-49a2-c086-0af0ae536ddd"
      },
      "execution_count": 14,
      "outputs": [
        {
          "output_type": "stream",
          "name": "stdout",
          "text": [
            "##########\n",
            "# 안녕하세요? #\n",
            "##########\n"
          ]
        }
      ]
    },
    {
      "cell_type": "code",
      "source": [
        "print(\"3개의 값을 입력하시오.\")\n",
        "x = int(input(\"x의 값을 입력하시오.: \"))\n",
        "y = int(input(\"y의 값을 입력하시오.: \"))\n",
        "z = int(input(\"z의 값을 입력하시오.: \"))\n",
        "x = x + 1\n",
        "y = y + 1\n",
        "z = z + 1\n",
        "print(\"변경된 값은:\" , x, y, z, \"로 변경되었습니다.\")"
      ],
      "metadata": {
        "colab": {
          "base_uri": "https://localhost:8080/"
        },
        "id": "DDnW1jtbKl0L",
        "outputId": "3532ed37-801e-4685-a696-8a845ce1547d"
      },
      "execution_count": 16,
      "outputs": [
        {
          "output_type": "stream",
          "name": "stdout",
          "text": [
            "3개의 값을 입력하시오.\n",
            "x의 값을 입력하시오.: 2\n",
            "y의 값을 입력하시오.: 3\n",
            "z의 값을 입력하시오.: 4\n",
            "변경된 값은: 3 4 5 로 변경되었습니다.\n"
          ]
        }
      ]
    },
    {
      "cell_type": "code",
      "source": [
        "won = 10000\n",
        "usd = won * 1418\n",
        "print(usd)"
      ],
      "metadata": {
        "colab": {
          "base_uri": "https://localhost:8080/"
        },
        "id": "1E8Guat5M_pi",
        "outputId": "26031e17-5267-4513-e4a1-beacbf89f147"
      },
      "execution_count": 17,
      "outputs": [
        {
          "output_type": "stream",
          "name": "stdout",
          "text": [
            "14180000\n"
          ]
        }
      ]
    },
    {
      "cell_type": "code",
      "source": [
        "print(\"현재 환율을 입력하시오.: \")\n",
        "exchange_rate = int(input(\"달러의 환율금액을 입력: \"))\n",
        "won = int(input(\"한화금액을 입력하시오.: \"))\n",
        "usd = won * exchange_rate\n",
        "print(usd)"
      ],
      "metadata": {
        "colab": {
          "base_uri": "https://localhost:8080/"
        },
        "id": "0gjjUzl2Np4q",
        "outputId": "aa0d9a05-7620-4fd3-92b1-2853ea80e6b0"
      },
      "execution_count": 22,
      "outputs": [
        {
          "output_type": "stream",
          "name": "stdout",
          "text": [
            "현재 환율을 입력하시오.: \n",
            "달러의 환율금액을 입력: 1418\n",
            "한화금액을 입력하시오.: 5000\n",
            "7090000\n"
          ]
        }
      ]
    },
    {
      "cell_type": "code",
      "source": [
        "fahrenheit = 100\n",
        "celsius = fahrenheit - 32\n",
        "celsius = celsius * 5\n",
        "celsius = celsius / 9\n",
        "print(celsius)"
      ],
      "metadata": {
        "colab": {
          "base_uri": "https://localhost:8080/"
        },
        "id": "BF03VCCEOvUh",
        "outputId": "d2250889-d567-43eb-ca96-3c340ed5070f"
      },
      "execution_count": 23,
      "outputs": [
        {
          "output_type": "stream",
          "name": "stdout",
          "text": [
            "37.77777777777778\n"
          ]
        }
      ]
    },
    {
      "cell_type": "code",
      "source": [
        "fahrenheit = 100\n",
        "celsius = 5 * (fahrenheit-32)/9\n",
        "print(celsius)"
      ],
      "metadata": {
        "colab": {
          "base_uri": "https://localhost:8080/"
        },
        "id": "8F7jwe94Pt6y",
        "outputId": "92d726da-23cb-48fc-ea85-eb618ef8ccac"
      },
      "execution_count": 24,
      "outputs": [
        {
          "output_type": "stream",
          "name": "stdout",
          "text": [
            "37.77777777777778\n"
          ]
        }
      ]
    },
    {
      "cell_type": "code",
      "source": [],
      "metadata": {
        "id": "477AqhoSON0x"
      },
      "execution_count": null,
      "outputs": []
    }
  ]
}